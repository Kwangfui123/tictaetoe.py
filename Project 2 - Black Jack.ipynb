{
 "cells": [
  {
   "cell_type": "code",
   "execution_count": 1,
   "metadata": {},
   "outputs": [],
   "source": [
    "import random\n",
    "\n",
    "suits = ('Hearts', 'Diamonds', 'Spades', 'Clubs')\n",
    "ranks = ('Two', 'Three', 'Four', 'Five', 'Six', 'Seven', 'Eight', 'Nine', 'Ten', 'Jack', 'Queen', 'King', 'Ace')\n",
    "values = {'Two':2, 'Three':3, 'Four':4, 'Five':5, 'Six':6, 'Seven':7, 'Eight':8, 'Nine':9, 'Ten':10, 'Jack':10,\n",
    "         'Queen':10, 'King':10, 'Ace':11}\n",
    "\n",
    "playing = True"
   ]
  },
  {
   "cell_type": "code",
   "execution_count": 2,
   "metadata": {},
   "outputs": [],
   "source": [
    "class Card:\n",
    "    \n",
    "    def __init__(self,suit,rank):\n",
    "        self.suit = suit\n",
    "        self.rank = rank\n",
    "        \n",
    "    def __str__(self):\n",
    "        return self.rank+ \" of \" +self.suit"
   ]
  },
  {
   "cell_type": "code",
   "execution_count": 17,
   "metadata": {},
   "outputs": [],
   "source": [
    "class Deck:\n",
    "    \n",
    "    def __init__(self):\n",
    "        self.deck = []\n",
    "        for suit in suits:\n",
    "            for rank in ranks:\n",
    "                self.deck.append(Card(suit,rank))\n",
    "        \n",
    "    def __str__(self):\n",
    "        deck_comp = ''\n",
    "        for card in self.deck:\n",
    "            deck_comp += '\\n'+card.__str__()\n",
    "        return \"The deck has:\"+deck_comp \n",
    "        \n",
    "        \n",
    "    def shuffle(self):\n",
    "        random.shuffle(self.deck)\n",
    "        \n",
    "    def deal(self):\n",
    "        return self.deck.pop()"
   ]
  },
  {
   "cell_type": "code",
   "execution_count": 18,
   "metadata": {},
   "outputs": [],
   "source": [
    "test_deck = Deck()"
   ]
  },
  {
   "cell_type": "code",
   "execution_count": 19,
   "metadata": {},
   "outputs": [
    {
     "name": "stdout",
     "output_type": "stream",
     "text": [
      "The deck has:\n",
      "Jack of Hearts\n",
      "Ten of Hearts\n",
      "Two of Clubs\n",
      "Four of Clubs\n",
      "Seven of Spades\n",
      "Two of Spades\n",
      "Eight of Clubs\n",
      "Eight of Diamonds\n",
      "Queen of Clubs\n",
      "Eight of Spades\n",
      "Two of Diamonds\n",
      "Jack of Diamonds\n",
      "Jack of Clubs\n",
      "Seven of Diamonds\n",
      "Ace of Diamonds\n",
      "Five of Hearts\n",
      "Queen of Hearts\n",
      "Three of Diamonds\n",
      "Nine of Clubs\n",
      "Four of Spades\n",
      "Nine of Diamonds\n",
      "Queen of Diamonds\n",
      "Ten of Diamonds\n",
      "Ten of Spades\n",
      "King of Spades\n",
      "Ten of Clubs\n",
      "Ace of Clubs\n",
      "Three of Spades\n",
      "Six of Hearts\n",
      "Seven of Hearts\n",
      "King of Diamonds\n",
      "Jack of Spades\n",
      "Six of Clubs\n",
      "Eight of Hearts\n",
      "Four of Hearts\n",
      "Five of Clubs\n",
      "Six of Diamonds\n",
      "King of Clubs\n",
      "Ace of Spades\n",
      "Five of Spades\n",
      "Two of Hearts\n",
      "Five of Diamonds\n",
      "Six of Spades\n",
      "Seven of Clubs\n",
      "Nine of Hearts\n",
      "Nine of Spades\n",
      "King of Hearts\n",
      "Queen of Spades\n",
      "Four of Diamonds\n",
      "Ace of Hearts\n",
      "Three of Clubs\n",
      "Three of Hearts\n"
     ]
    }
   ],
   "source": [
    "test_deck.shuffle()\n",
    "print(test_deck)"
   ]
  },
  {
   "cell_type": "code",
   "execution_count": 52,
   "metadata": {},
   "outputs": [],
   "source": [
    "class Hand:\n",
    "    \n",
    "    def __init__(self):\n",
    "        self.cards = []\n",
    "        self.value = 0\n",
    "        self.aces = 0\n",
    "        \n",
    "    def add_card(self,card):\n",
    "        self.cards.append(card)\n",
    "        self.value += values[card.rank]\n",
    "        \n",
    "        if card.rank == \"Ace\":\n",
    "            self.aces += 1\n",
    "        \n",
    "    def adjust_aces(self):\n",
    "        \n",
    "        while self.value > 21 and self.aces:\n",
    "            self.value -=10\n",
    "            self.aces -=1"
   ]
  },
  {
   "cell_type": "code",
   "execution_count": 53,
   "metadata": {},
   "outputs": [
    {
     "name": "stdout",
     "output_type": "stream",
     "text": [
      "Jack of Hearts\n",
      "10\n"
     ]
    }
   ],
   "source": [
    "my_deck = Deck()\n",
    "my_deck.shuffle()\n",
    "pulled_card = my_deck.deal()\n",
    "print(pulled_card)\n",
    "\n",
    "test_player = Hand()\n",
    "test_player.add_card(pulled_card)\n",
    "print(test_player.value)"
   ]
  },
  {
   "cell_type": "code",
   "execution_count": 54,
   "metadata": {},
   "outputs": [],
   "source": [
    "test_player.add_card(test_deck.deal())"
   ]
  },
  {
   "cell_type": "code",
   "execution_count": 55,
   "metadata": {},
   "outputs": [
    {
     "name": "stdout",
     "output_type": "stream",
     "text": [
      "21\n"
     ]
    }
   ],
   "source": [
    "print(test_player.value)"
   ]
  },
  {
   "cell_type": "code",
   "execution_count": 77,
   "metadata": {},
   "outputs": [],
   "source": [
    "class Chips:\n",
    "    \n",
    "    def __init__(self,total=100):\n",
    "        self.total += total\n",
    "        self.bet = 0\n",
    "        \n",
    "    def win_bets(self):\n",
    "        self.total += self.bet\n",
    "        \n",
    "    def lose_bets(self):\n",
    "        self.total -= self.bet\n",
    "        "
   ]
  },
  {
   "cell_type": "code",
   "execution_count": 93,
   "metadata": {},
   "outputs": [],
   "source": [
    "def take_bet(chips):\n",
    "    \n",
    "    while True:\n",
    "        \n",
    "        try:\n",
    "            chips.bet = int(input('How many chips would you like to bet? '))\n",
    "            \n",
    "        except:\n",
    "            print(\"Sorry, your input must be an integer!\")\n",
    "            \n",
    "        else:\n",
    "            if chips.bet > chips.total:\n",
    "                print(\"Sorry, your bet can't exceed\",chips.total)\n",
    "            else:\n",
    "                break"
   ]
  },
  {
   "cell_type": "code",
   "execution_count": 94,
   "metadata": {},
   "outputs": [],
   "source": [
    "def hit(deck,hand):\n",
    "    \n",
    "    hand.add_card(deck.deal())\n",
    "    hand.adjust_aces()"
   ]
  },
  {
   "cell_type": "code",
   "execution_count": 95,
   "metadata": {},
   "outputs": [],
   "source": [
    "def hit_or_stand(deck,hand):\n",
    "    \n",
    "    global playing\n",
    "    \n",
    "    while True:\n",
    "        x = input(\"Would you like to hit or stand? h or s\")\n",
    "        \n",
    "        if x[0].lower() == 'h':\n",
    "            hit(deck,hand) \n",
    "            \n",
    "        elif x[0].lower() == 's':\n",
    "            print(\"Player stands. Dealer is playing.\")\n",
    "            playing = False\n",
    "            \n",
    "        else:\n",
    "            print(\"Sorry, please try again. \")\n",
    "            continue\n",
    "        break"
   ]
  },
  {
   "cell_type": "code",
   "execution_count": 104,
   "metadata": {},
   "outputs": [],
   "source": [
    "def show_some(player,dealer):\n",
    "    print(\"\\nDealer's Hand: \")\n",
    "    print(\"<card hidden>\")\n",
    "    print('',dealer.cards[1])\n",
    "    print(\"\\nPlayer's Hand:\", *player.cards, sep='\\n ')\n",
    "\n",
    "def show_all(player,dealer):\n",
    "    print(\"\\nDealer's Hand:\", *dealer.cards, sep='\\n ')\n",
    "    print(\"Dealer's Hand =\",dealer.value)\n",
    "    print(\"\\nPlayer's Hand:\", *player.cards, sep='\\n ')\n",
    "    print(\"Player's Hand =\",player.value)"
   ]
  },
  {
   "cell_type": "code",
   "execution_count": 105,
   "metadata": {},
   "outputs": [],
   "source": [
    "def player_busts(player,dealer,chips):\n",
    "    print(\"Player burst!\")\n",
    "    chips.lose_bets()\n",
    "    \n",
    "def player_wins(player,dealer,chips):\n",
    "    print(\"Player wins!\")\n",
    "    chips.win_bets()\n",
    "def dealer_burst(player,dealer,chips):\n",
    "    print(\"Dealer burst!\")\n",
    "    chips.win_bets()\n",
    "    \n",
    "def dealer_wins(player,dealer,chips):\n",
    "    print(\"Dealer burst!\")\n",
    "    chips.lose_bets()\n",
    "    \n",
    "def push(player,dealer,chips):\n",
    "    print(\"Dealer and Player tie! Push\")"
   ]
  },
  {
   "cell_type": "code",
   "execution_count": null,
   "metadata": {},
   "outputs": [],
   "source": []
  }
 ],
 "metadata": {
  "kernelspec": {
   "display_name": "Python 3",
   "language": "python",
   "name": "python3"
  },
  "language_info": {
   "codemirror_mode": {
    "name": "ipython",
    "version": 3
   },
   "file_extension": ".py",
   "mimetype": "text/x-python",
   "name": "python",
   "nbconvert_exporter": "python",
   "pygments_lexer": "ipython3",
   "version": "3.8.5"
  }
 },
 "nbformat": 4,
 "nbformat_minor": 4
}
